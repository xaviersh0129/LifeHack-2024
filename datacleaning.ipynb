{
 "cells": [
  {
   "cell_type": "code",
   "execution_count": 2,
   "metadata": {},
   "outputs": [],
   "source": [
    "import pandas as pd"
   ]
  },
  {
   "cell_type": "code",
   "execution_count": 3,
   "metadata": {},
   "outputs": [],
   "source": [
    "df = pd.read_csv(r\"D:\\NUS\\Hackathon\\LifeHack 2024\\LifeHack-2024\\Datasets\\FivePreventableCrimeCasesRecordedByNeighbourhoodPoliceCentreNPCAnnual.csv\")"
   ]
  },
  {
   "cell_type": "code",
   "execution_count": 4,
   "metadata": {},
   "outputs": [
    {
     "data": {
      "text/html": [
       "<div>\n",
       "<style scoped>\n",
       "    .dataframe tbody tr th:only-of-type {\n",
       "        vertical-align: middle;\n",
       "    }\n",
       "\n",
       "    .dataframe tbody tr th {\n",
       "        vertical-align: top;\n",
       "    }\n",
       "\n",
       "    .dataframe thead th {\n",
       "        text-align: right;\n",
       "    }\n",
       "</style>\n",
       "<table border=\"1\" class=\"dataframe\">\n",
       "  <thead>\n",
       "    <tr style=\"text-align: right;\">\n",
       "      <th></th>\n",
       "      <th>year</th>\n",
       "      <th>value</th>\n",
       "      <th>Division</th>\n",
       "      <th>NPC</th>\n",
       "    </tr>\n",
       "  </thead>\n",
       "  <tbody>\n",
       "    <tr>\n",
       "      <th>1</th>\n",
       "      <td>2011</td>\n",
       "      <td>124.0</td>\n",
       "      <td>Central Police Division</td>\n",
       "      <td>Bukit Merah East NPC</td>\n",
       "    </tr>\n",
       "    <tr>\n",
       "      <th>2</th>\n",
       "      <td>2011</td>\n",
       "      <td>125.0</td>\n",
       "      <td>Central Police Division</td>\n",
       "      <td>Marina Bay NPC</td>\n",
       "    </tr>\n",
       "    <tr>\n",
       "      <th>3</th>\n",
       "      <td>2011</td>\n",
       "      <td>124.0</td>\n",
       "      <td>Central Police Division</td>\n",
       "      <td>Rochor NPC</td>\n",
       "    </tr>\n",
       "    <tr>\n",
       "      <th>6</th>\n",
       "      <td>2011</td>\n",
       "      <td>135.0</td>\n",
       "      <td>Clementi Police Division</td>\n",
       "      <td>Bukit Merah West NPC</td>\n",
       "    </tr>\n",
       "    <tr>\n",
       "      <th>7</th>\n",
       "      <td>2011</td>\n",
       "      <td>73.0</td>\n",
       "      <td>Clementi Police Division</td>\n",
       "      <td>Clementi NPC</td>\n",
       "    </tr>\n",
       "  </tbody>\n",
       "</table>\n",
       "</div>"
      ],
      "text/plain": [
       "   year  value                  Division                   NPC\n",
       "1  2011  124.0   Central Police Division  Bukit Merah East NPC\n",
       "2  2011  125.0   Central Police Division        Marina Bay NPC\n",
       "3  2011  124.0   Central Police Division            Rochor NPC\n",
       "6  2011  135.0  Clementi Police Division  Bukit Merah West NPC\n",
       "7  2011   73.0  Clementi Police Division          Clementi NPC"
      ]
     },
     "execution_count": 4,
     "metadata": {},
     "output_type": "execute_result"
    }
   ],
   "source": [
    "# Step 1: Split the 'level_1' column\n",
    "df[['Division', 'NPC']] = df['level_1'].str.split(' - ', expand=True)\n",
    "\n",
    "# Step 2: Convert 'value' to numeric, handling 'na'\n",
    "df['value'] = pd.to_numeric(df['value'], errors='coerce')\n",
    "\n",
    "# Step 3: Filter out rows with 'Total' or 'Unknown NPC' in the 'NPC' column\n",
    "df_cleaned = df[~df['NPC'].str.contains('Total|Unknown', na=False)]\n",
    "\n",
    "# Drop the original 'level_1' column as it's no longer needed\n",
    "df_cleaned = df_cleaned.drop(columns=['level_1'])\n",
    "\n",
    "# Display the cleaned dataframe\n",
    "df_cleaned.head()\n"
   ]
  },
  {
   "cell_type": "code",
   "execution_count": 5,
   "metadata": {},
   "outputs": [
    {
     "data": {
      "text/html": [
       "<div>\n",
       "<style scoped>\n",
       "    .dataframe tbody tr th:only-of-type {\n",
       "        vertical-align: middle;\n",
       "    }\n",
       "\n",
       "    .dataframe tbody tr th {\n",
       "        vertical-align: top;\n",
       "    }\n",
       "\n",
       "    .dataframe thead th {\n",
       "        text-align: right;\n",
       "    }\n",
       "</style>\n",
       "<table border=\"1\" class=\"dataframe\">\n",
       "  <thead>\n",
       "    <tr style=\"text-align: right;\">\n",
       "      <th></th>\n",
       "      <th>NPC</th>\n",
       "      <th>value</th>\n",
       "    </tr>\n",
       "  </thead>\n",
       "  <tbody>\n",
       "    <tr>\n",
       "      <th>13</th>\n",
       "      <td>Geylang NPC</td>\n",
       "      <td>1672.0</td>\n",
       "    </tr>\n",
       "    <tr>\n",
       "      <th>21</th>\n",
       "      <td>Orchard NPC</td>\n",
       "      <td>1450.0</td>\n",
       "    </tr>\n",
       "    <tr>\n",
       "      <th>2</th>\n",
       "      <td>Bedok NPC</td>\n",
       "      <td>1339.0</td>\n",
       "    </tr>\n",
       "    <tr>\n",
       "      <th>18</th>\n",
       "      <td>Marina Bay NPC</td>\n",
       "      <td>1234.0</td>\n",
       "    </tr>\n",
       "    <tr>\n",
       "      <th>25</th>\n",
       "      <td>Rochor NPC</td>\n",
       "      <td>1148.0</td>\n",
       "    </tr>\n",
       "  </tbody>\n",
       "</table>\n",
       "</div>"
      ],
      "text/plain": [
       "               NPC   value\n",
       "13     Geylang NPC  1672.0\n",
       "21     Orchard NPC  1450.0\n",
       "2        Bedok NPC  1339.0\n",
       "18  Marina Bay NPC  1234.0\n",
       "25      Rochor NPC  1148.0"
      ]
     },
     "execution_count": 5,
     "metadata": {},
     "output_type": "execute_result"
    }
   ],
   "source": [
    "# Aggregate crime data by NPC\n",
    "npc_crime_totals = df_cleaned.groupby('NPC')['value'].sum().reset_index()\n",
    "\n",
    "# Sort the data to identify top crime areas\n",
    "top_crime_areas = npc_crime_totals.sort_values(by='value', ascending=False)\n",
    "\n",
    "# Display the top crime areas\n",
    "top_crime_areas.head()\n"
   ]
  },
  {
   "cell_type": "code",
   "execution_count": 6,
   "metadata": {},
   "outputs": [
    {
     "data": {
      "text/plain": [
       "',NPC,value\\r\\n13,Geylang NPC,1672.0\\r\\n21,Orchard NPC,1450.0\\r\\n2,Bedok NPC,1339.0\\r\\n18,Marina Bay NPC,1234.0\\r\\n25,Rochor NPC,1148.0\\r\\n5,Bukit Merah East NPC,928.0\\r\\n16,Jurong West NPC,883.0\\r\\n20,Nanyang NPC,877.0\\r\\n14,Hougang NPC,842.0\\r\\n29,Tampines NPC,817.0\\r\\n11,Choa Chu Kang NPC,791.0\\r\\n24,Queenstown NPC,768.0\\r\\n6,Bukit Merah West NPC,763.0\\r\\n27,Sengkang NPC,745.0\\r\\n33,Woodlands West NPC,713.0\\r\\n30,Toa Payoh NPC,713.0\\r\\n34,Yishun North NPC,678.0\\r\\n31,Woodlands East NPC,676.0\\r\\n4,Bukit Batok NPC,664.0\\r\\n15,Jurong East NPC,656.0\\r\\n12,Clementi NPC,589.0\\r\\n19,Marine Parade NPC,500.0\\r\\n17,Kampong Java NPC,496.0\\r\\n22,Pasir Ris NPC,477.0\\r\\n7,Bukit Panjang NPC,463.0\\r\\n28,Serangoon NPC,463.0\\r\\n9,Changi NPC,461.0\\r\\n0,Ang Mo Kio North NPC,454.0\\r\\n1,Ang Mo Kio South NPC,445.0\\r\\n3,Bishan NPC,417.0\\r\\n8,Bukit Timah NPC,381.0\\r\\n26,Sembawang NPC,379.0\\r\\n35,Yishun South NPC,362.0\\r\\n23,Punggol NPC,294.0\\r\\n32,Woodlands NPC,241.0\\r\\n10,Checkpoint,10.0\\r\\n'"
      ]
     },
     "execution_count": 6,
     "metadata": {},
     "output_type": "execute_result"
    }
   ],
   "source": [
    "df_cleaned.to_csv('cleaned_crime_data.csv', index=False)"
   ]
  }
 ],
 "metadata": {
  "kernelspec": {
   "display_name": "base",
   "language": "python",
   "name": "python3"
  },
  "language_info": {
   "codemirror_mode": {
    "name": "ipython",
    "version": 3
   },
   "file_extension": ".py",
   "mimetype": "text/x-python",
   "name": "python",
   "nbconvert_exporter": "python",
   "pygments_lexer": "ipython3",
   "version": "3.11.7"
  }
 },
 "nbformat": 4,
 "nbformat_minor": 2
}
